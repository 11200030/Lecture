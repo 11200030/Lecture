{
  "nbformat": 4,
  "nbformat_minor": 0,
  "metadata": {
    "colab": {
      "name": "Sample.ipynb",
      "provenance": [],
      "collapsed_sections": [],
      "include_colab_link": true
    },
    "kernelspec": {
      "name": "python3",
      "display_name": "Python 3"
    }
  },
  "cells": [
    {
      "cell_type": "markdown",
      "metadata": {
        "id": "view-in-github",
        "colab_type": "text"
      },
      "source": [
        "<a href=\"https://colab.research.google.com/github/YujiSue/Lecture/blob/master/2020/Sample.ipynb\" target=\"_parent\"><img src=\"https://colab.research.google.com/assets/colab-badge.svg\" alt=\"Open In Colab\"/></a>"
      ]
    },
    {
      "cell_type": "markdown",
      "metadata": {
        "id": "3jQ6QfNCynVQ",
        "colab_type": "text"
      },
      "source": [
        "##サンプルコード集\n",
        "ここにあるコードは、基本的なPythonのコードです。  \n",
        "これらをテンプレートにして、上手く組み合わせてコピペしながら課題に取り組んでください。  \n",
        "<font color=\"magenta\">※\\#から始まる文は注釈・コメントです。実際にプログラムを書くのに利用するときは、\\#から始まる部分はコピーしないでください。</font>"
      ]
    },
    {
      "cell_type": "markdown",
      "metadata": {
        "id": "C9e0TnkH1Da9",
        "colab_type": "text"
      },
      "source": [
        "##まずは基本となる計算からです。"
      ]
    },
    {
      "cell_type": "code",
      "metadata": {
        "id": "HSFJRbzsy1n2",
        "colab_type": "code",
        "outputId": "9662c821-3f7a-46e1-a0a2-1649f8e7ffa5",
        "colab": {
          "base_uri": "https://localhost:8080/",
          "height": 86
        }
      },
      "source": [
        "#数値を扱う\n",
        "数字１=100 #○○={値}の形で表します。この○○を「変数」といいます。\n",
        "数字２=-20 #※イコール以降は半角英数字でなくではいけません。そうしないとてしまうのです。\n",
        "数字３=1.5 #こうやってコンピュータが数値を忘れないように一度「変数」の中に数値を保存します。\n",
        "\n",
        "#基本計算\n",
        "#足し算は{結果を保存する変数}={値１}+{値２}の形で表します。\n",
        "数字４=数字１+数字２ #※イコールとプラス記号は半角英数字でなくではいけません。\n",
        "#結果表示\n",
        "print(\"数字１＋数字２＝\",数字４) \n",
        "\n",
        "#引き算は{結果を保存する変数}={値１}-{値２}の形で表します。\n",
        "数字５=数字１-数字２ #※イコールとマイナス記号は半角英数字でなくではいけません。\n",
        "#結果表示\n",
        "print(\"数字１ー数字２＝\",数字５) \n",
        "\n",
        "#かけ算は{結果を保存する変数}={値１}*{値２}の形で表します。\n",
        "数字６=数字１*数字３ #※イコールとアスタリスク（＊）記号は半角英数字でなくではいけません。\n",
        "#結果表示\n",
        "print(\"数字１×数字３＝\",数字６) \n",
        "\n",
        "#割り算は{結果を保存する変数}={値１}/{値２}の形で表します。\n",
        "数字７=数字２/数字３ #※イコールとスラッシュ（／）記号は半角英数字でなくではいけません。\n",
        "#結果表示\n",
        "print(\"数字２÷数字３＝\",数字７) \n"
      ],
      "execution_count": 0,
      "outputs": [
        {
          "output_type": "stream",
          "text": [
            "数字１＋数字２＝ 80\n",
            "数字１ー数字２＝ 120\n",
            "数字１×数字３＝ 150.0\n",
            "数字２÷数字３＝ -13.333333333333334\n"
          ],
          "name": "stdout"
        }
      ]
    },
    {
      "cell_type": "markdown",
      "metadata": {
        "id": "SpqlMz2M31bR",
        "colab_type": "text"
      },
      "source": [
        "##続いて文字と文章のサンプルです。"
      ]
    },
    {
      "cell_type": "code",
      "metadata": {
        "id": "Pte4sIwH36y4",
        "colab_type": "code",
        "colab": {}
      },
      "source": [
        ""
      ],
      "execution_count": 0,
      "outputs": []
    }
  ]
}