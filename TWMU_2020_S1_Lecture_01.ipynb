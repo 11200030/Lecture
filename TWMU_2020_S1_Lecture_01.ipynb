{
  "nbformat": 4,
  "nbformat_minor": 0,
  "metadata": {
    "colab": {
      "name": "TWMU_2020_S1_Lecture-01.ipynb",
      "provenance": [],
      "collapsed_sections": [],
      "include_colab_link": true
    },
    "kernelspec": {
      "name": "python3",
      "display_name": "Python 3"
    }
  },
  "cells": [
    {
      "cell_type": "markdown",
      "metadata": {
        "id": "view-in-github",
        "colab_type": "text"
      },
      "source": [
        "<a href=\"https://colab.research.google.com/github/YujiSue/Lecture/blob/master/TWMU_2020_S1_Lecture_01.ipynb\" target=\"_parent\"><img src=\"https://colab.research.google.com/assets/colab-badge.svg\" alt=\"Open In Colab\"/></a>"
      ]
    },
    {
      "cell_type": "markdown",
      "metadata": {
        "id": "fC-lfRPyOpAz",
        "colab_type": "text"
      },
      "source": [
        "# Pythonプログラミング実践編\n",
        "- いよいよ実際にプログラミングです  \n",
        "- 最初は文法の説明も含めてサンプルコードを提示します\n",
        "- サンプルを見ながら、Pythonという言語に触れていきましょう  "
      ]
    },
    {
      "cell_type": "markdown",
      "metadata": {
        "id": "sE2EgE87sfN7",
        "colab_type": "text"
      },
      "source": [
        "### 1-2-1. 「カルテの機能 (1)」 を 「Pythonの関数へ」\n",
        "　\n",
        "\n"
      ]
    },
    {
      "cell_type": "code",
      "metadata": {
        "id": "_aR28x2D6OFi",
        "colab_type": "code",
        "colab": {}
      },
      "source": [
        "# それではPythonのプログラムのコードです。\n",
        "# ちなみにこの\"#\"以降の文は【コメント】と呼ばれ、\n",
        "# プログラム的には無視される部分です。\n",
        "# メモしたいことなど、好きなことを書いてかまいません。\n",
        "\n",
        "##############　カルテ【オブジェクト】の作成　##################\n",
        "class 簡易カルテ:\n",
        "  def __init__(self):　# 続いてカルテの初期状態を < def __init__(self, [省略可]): > の形式で設定します\n",
        "    self.患者ID = None  # 患者のID情報に\"None(まだデータがない)\"をセット\n",
        "    self.患者氏名 = None # 患者の氏名\n",
        "    self.患者生年月日 = None # 患者の生年月日\n",
        "    self.診療データ = [] # 患者の診療データは、複数のアイテムを記録できる\"[](空の配列/コンテナ)\"をセット\n",
        "\n",
        "　# 続けてカルテに必要な機能を足していきましょう\n",
        "  # 最初は\n",
        "  def 記入(self, ID, 名前, 生年月日):\n",
        "    self.患者ID = ID\n",
        "    self.患者氏名 = 名前\n",
        "    self.患者生年月日 = 生年月日\n",
        "  \n",
        "  def データ追加(self, データ):\n",
        "    self.診療データ.append(データ)\n",
        "\n",
        "  def 表示(self, ページ):\n",
        "    if (ページ == 1):\n",
        "    　print('ID:\\t',self.患者ID)\n",
        "      print('氏名:\\t',self.患者氏名)\n",
        "      print('生年月日:\\t',self.患者生年月日)\n",
        "    else: \n",
        "      print('まだ１ページしかありません！')\n",
        "\n",
        "###############################################################\n"
      ],
      "execution_count": 0,
      "outputs": []
    },
    {
      "cell_type": "markdown",
      "metadata": {
        "id": "g2aEVKAJXb7_",
        "colab_type": "text"
      },
      "source": [
        "基本的にPythonプログラムでは半角英数字を使います。  \n",
        "google colabを使う場合は、名前は全角を使用できます。  \n"
      ]
    },
    {
      "cell_type": "code",
      "metadata": {
        "id": "0Q5evEzROAiD",
        "colab_type": "code",
        "colab": {}
      },
      "source": [
        " #「私のカルテ」という変数に、新しい電子カルテを代入します\n",
        "私のカルテ = 簡易カルテ() \n",
        "#簡易電子カルテは【オブジェクト】です。\n",
        "#【オブジェクト】を変数に入れる場合は後ろに\"()\"をつけます。\n",
        "\n",
        "#以下はフォームというちょっと特殊な機能を使用します。\n",
        "#Google colabで見ると、右隣に何やら入力画面が現れていると思います。\n",
        "#この右隣の画面に、試しに適当な名前や番号、生年月日を入力してみてください。\n",
        "#実際のデータでなくてかまいません。\n",
        "\n",
        "#@markdown ###私のカルテ\n",
        "学籍番号 = 0 #@param\n",
        "名前 = '女子医花子' #@param {type:\"string\"}\n",
        "生年月日 = '1900-01-01' #@param {type:\"date\"}\n",
        "\n",
        "##\n",
        "私のカルテ.記入(番号, 名前, 生年月日)\n",
        "\n",
        "##\n",
        "\n"
      ],
      "execution_count": 0,
      "outputs": []
    },
    {
      "cell_type": "code",
      "metadata": {
        "id": "--ByM6p3TDYa",
        "colab_type": "code",
        "colab": {}
      },
      "source": [
        "class カルテ:\n",
        "  def __init__(self):\n",
        "    self.患者ID = None\n",
        "    self.患者氏名 = None\n",
        "    self.患者生年月日 = None\n",
        "    self.診療データ = []\n",
        "\n",
        "  def 記入(self, ID, 名前, 生年月日):\n",
        "    self.患者ID = 番号\n",
        "    self.患者氏名 = 名前\n",
        "    self.患者生年月日 = 生年月日\n",
        "    \n",
        "  def 表示(self):\n",
        "    \n",
        "\n",
        "\n",
        "  def 年齢(self):\n",
        "    生年 = int(生年月日.split('-')[0])\n",
        "    2020 - 生年\n",
        "\n",
        "  def 肥満度チェック(self):\n",
        "    if (len(self.検査結果 < 1)):\n",
        "      print('検査データがありません')\n",
        "    else:\n",
        "      体重 = self.検査結果[0].検査データ['体重']\n",
        "      身長 = self.検査結果[0].検査データ['身長']/100\n",
        "      BMI値 = 体重 / (身長*身長)\n",
        "      if BMI値 < :\n",
        "        print('痩せすぎ')\n",
        "      elif BMI値 < 18.5:\n",
        "        print('痩せ気味')\n",
        "      elif BMI値 < 25:\n",
        "        print('普通')\n",
        "      elif BMI値 < 35:\n",
        "        print('肥満（1度）')\n",
        "    elif BMI値 < 18.5:\n",
        "      elif BMI値 < 18.5:\n",
        "\n",
        "\n",
        "  def 血圧チェック(self):\n",
        "    \n",
        "\n",
        "  def データ追加(self, データ):\n",
        "    self.診療記録.append(データ)\n",
        "\n",
        "  def 表示(self):\n",
        "    \n"
      ],
      "execution_count": 0,
      "outputs": []
    },
    {
      "cell_type": "code",
      "metadata": {
        "id": "X3jLES3MCuD9",
        "colab_type": "code",
        "outputId": "91f692b6-f02d-430e-e4b5-a12a16f92ee1",
        "colab": {
          "base_uri": "https://localhost:8080/",
          "height": 109
        }
      },
      "source": [
        "import pandas\n",
        "from google.colab import data_table\n",
        "\n",
        "df = pandas.DataFrame({'': [0000, 'あああ', 'A3']},\n",
        "                  index=['患者ID', '患者氏名', 'THREE'])\n",
        "data_table.DataTable(df, include_index=False, num_rows_per_page=10)\n",
        "#print(df)\n",
        "\n",
        "x = 120\n",
        "y = \"abc\"\n",
        "from IPython.core.display import display, HTML\n",
        "display(HTML('<h1>Hello, world!</h1><div>'+str(x)+'</div>'+'<div>'+y+'</div>'))\n",
        "\n"
      ],
      "execution_count": 0,
      "outputs": [
        {
          "output_type": "display_data",
          "data": {
            "text/html": [
              "<h1>Hello, world!</h1><div>120</div><div>abc</div>"
            ],
            "text/plain": [
              "<IPython.core.display.HTML object>"
            ]
          },
          "metadata": {
            "tags": []
          }
        }
      ]
    },
    {
      "cell_type": "code",
      "metadata": {
        "id": "FdxC7BD68dF7",
        "colab_type": "code",
        "colab": {}
      },
      "source": [
        "class 診療データ:\n",
        "  def __init__(self):\n",
        "    self.検査名 = '未定'\n",
        "    self.タイプ = '表'\n",
        "    self.検査項目 = []\n",
        "    self.検査データ = {}\n",
        "    self.所見 = ''\n",
        "\n",
        "  def 検査データの追加(self, データ):\n",
        "\n",
        "  \n",
        "  def 所見をまとめる(self):\n",
        "\n",
        "\n",
        "class 身体測定(診療データ):\n",
        "  def __init__(self):\n",
        "    super().init()\n",
        "    self.検査名 = '身体測定'\n",
        "    self.検査項目 = ['身長', '体重', '血圧', '視力']\n",
        "\n",
        "class 血液検査(診療データ):\n",
        "  def __init__(self):\n",
        "    super().init()\n",
        "    self.検査名 = '血液検査'\n",
        "    self.検査項目 = ['ヘモグロビン', '', 'γ-GDP', '血液型(ABO式)']\n",
        "\n",
        "class レントゲン検査(診療データ):\n",
        "  def __init__(self):\n",
        "    super().init()\n",
        "    self.検査名 = 'レントゲン検査'\n",
        "    self.タイプ = '画像'\n",
        "    self.検査項目 = ['胸部X線']"
      ],
      "execution_count": 0,
      "outputs": []
    },
    {
      "cell_type": "code",
      "metadata": {
        "id": "kTO3OyvG2EEJ",
        "colab_type": "code",
        "colab": {}
      },
      "source": [
        "私のカルテ = 簡易カルテ()\n",
        "\n",
        "#@markdown ###私のカルテ\n",
        "番号 = 0 #@param\n",
        "名前 = '女子医花子' #@param {type:\"string\"}\n",
        "生年月日 = '2000-01-01' #@param {type:\"date\"}\n",
        "\n",
        "私のカルテ.記入(番号, 名前, 生年月日)\n"
      ],
      "execution_count": 0,
      "outputs": []
    },
    {
      "cell_type": "code",
      "metadata": {
        "id": "2WapH_Ki3ERN",
        "colab_type": "code",
        "colab": {}
      },
      "source": [
        "#@markdown ###身体測定\n",
        "身長 = 0 #@param\n",
        "体重 = 0 #@param\n",
        "血圧 = 0/0 #@param\n",
        "視力 = 0,0 #@param\n"
      ],
      "execution_count": 0,
      "outputs": []
    },
    {
      "cell_type": "code",
      "metadata": {
        "id": "eGQphjxU3oG1",
        "colab_type": "code",
        "colab": {}
      },
      "source": [
        "#@markdown ###血液検査\n",
        "血液型(ABO式) = 'A' #@param {type:\"string\"}\n",
        "ヘモグロビン = 0 #@param\n",
        "γ-GDP = 0 #@param\n"
      ],
      "execution_count": 0,
      "outputs": []
    },
    {
      "cell_type": "code",
      "metadata": {
        "id": "uiT2sEN62sUI",
        "colab_type": "code",
        "outputId": "30eeadbc-1421-40b7-facb-8d2819096c31",
        "colab": {
          "base_uri": "https://localhost:8080/",
          "height": 35
        }
      },
      "source": [
        "print(カルテ.出席番号,',',カルテ.氏名,',',カルテ.年齢)"
      ],
      "execution_count": 0,
      "outputs": [
        {
          "output_type": "stream",
          "text": [
            "0 , 名無し , 20\n"
          ],
          "name": "stdout"
        }
      ]
    },
    {
      "cell_type": "code",
      "metadata": {
        "id": "RxSNja92Oa9q",
        "colab_type": "code",
        "colab": {}
      },
      "source": [
        "%%html\n",
        "<style>\n",
        "  \n",
        "</style>\n",
        "<div class=\"\"></div>"
      ],
      "execution_count": 0,
      "outputs": []
    },
    {
      "cell_type": "markdown",
      "metadata": {
        "id": "FT11oVcTuWGn",
        "colab_type": "text"
      },
      "source": [
        "## 1-1．簡易版カルテ【オブジェクト】を作成する  \n",
        "\n"
      ]
    },
    {
      "cell_type": "markdown",
      "metadata": {
        "id": "UwJQIoFfCfU7",
        "colab_type": "text"
      },
      "source": [
        "Pythonで<span style=\"color:red;\">【オブジェクト】</span>を作るには  \n",
        "\n",
        "```\n",
        "class オブジェクトの名前:\n",
        "```\n",
        "という形式で書きます  \n",
        "試しに「簡易カルテ」という名前で【オブジェクト】を作ると下のようになります。\n",
        "\n",
        "```\n",
        "class 簡易カルテ:\n",
        "```"
      ]
    },
    {
      "cell_type": "markdown",
      "metadata": {
        "id": "6coNMghXuhDQ",
        "colab_type": "text"
      },
      "source": [
        "- オブジェクトに限った話ではないのですが、基本的にPythonでは半角英数字を使います  \n",
        "- \"class\"や最後の\":\"が半角になっているか、気を付けながらコードを書くようにしましょう"
      ]
    },
    {
      "cell_type": "markdown",
      "metadata": {
        "id": "XPnC5UGZuq0d",
        "colab_type": "text"
      },
      "source": [
        "## 1-2.   「簡易カルテ」に機能を付与\n",
        "\n",
        "\n"
      ]
    },
    {
      "cell_type": "markdown",
      "metadata": {
        "id": "UPwJmpkbuw5l",
        "colab_type": "text"
      },
      "source": [
        "さて、「簡易カルテ」という名前の【オブジェクト】が出来たので、続けて「カルテとしての機能」を追加していきます  \n",
        "カルテに欲しい機能は以下の通りでした  \n",
        "   \n",
        "(1)　患者のIDや氏名など基本情報を入力できる  \n",
        "(2)　診療情報を追加できる  \n",
        "(3)　見たいページを閲覧できる"
      ]
    },
    {
      "cell_type": "markdown",
      "metadata": {
        "id": "CEwQDQLGuxl_",
        "colab_type": "text"
      },
      "source": [
        "ちなみに、オブジェクトに追加する「機能」のことを、プログラミング界隈では【関数】と呼びます  \n",
        "以後、プログラミング中は「機能」=>【関数】として表記します"
      ]
    },
    {
      "cell_type": "markdown",
      "metadata": {
        "id": "jiGg293Au3he",
        "colab_type": "text"
      },
      "source": [
        "ある【オブジェクト】に【関数】を付与したいとき、\n",
        "\n",
        "```\n",
        "class オブジェクト名:\n",
        "  def 関数名(引数):\n",
        "```\n",
        "のように書きます  \n",
        "察しの良い人はなんとなく分かってきたと思いますが、Pythonでは「接頭辞」「名前」「:(半角コロン)」がセットで出てくることが多いです  \n",
        "【関数】の場合は、頭に\"def\"をつけます\n",
        "【関数】を付与するさいに注意すべきは２点あります  \n",
        "１つは、\"def\"の前に空白（半角スペース２つ）を入れること  \n",
        "もう１つは、関数目のあとに【引数】\n"
      ]
    }
  ]
}